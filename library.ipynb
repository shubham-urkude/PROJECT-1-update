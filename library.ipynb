{
 "cells": [
  {
   "cell_type": "code",
   "execution_count": null,
   "id": "7d56c1cc",
   "metadata": {},
   "outputs": [],
   "source": [
    "username=[\"shubham\"]\n",
    "password=\"12345\" \n",
    "print(\"WELCOME TO YCCE COLLEGE LIBRARY\") \n",
    "user=input(\"enter admin username -\") \n",
    "\n",
    "BOOKS={\"FLUID MECHANICS\":6,\"MACHINE DRAWING\":3,\"HEAT TRANSFER\":2,\"ENGINEERING MECHANICS\":10}\n",
    "\n",
    "while True: \n",
    "    if user in username: \n",
    "        pw=input(\"enter password of admin -\")\n",
    "    else:\n",
    "        \n",
    "        \n",
    "        print(\"type correct username\")\n",
    "        \n",
    "        break\n",
    "\n",
    "    if pw==password:\n",
    "        print(\"login successfully\")\n",
    "        print(\"WELCOME TO YCCE COLLEGE OF MECHANICAL ENGINNERING DEPARTMENT\")\n",
    "    else:\n",
    "        print(\"incorrect password\")\n",
    "        break\n",
    "    while True:\n",
    "        choice = int(input(\"\"\"press 1 to see the availablity of books\n",
    "            press 2 to lend books\n",
    "            press 3 to return books\n",
    "            \"\"\"))\n",
    "        if choice==1:\n",
    "\n",
    "            print(BOOKS)\n",
    "        \n",
    "           \n",
    "            \n",
    "            \n",
    "        elif choice==2:\n",
    "            print(BOOKS)\n",
    "            lend_books=input(\"enter the books name you want to lend-\").upper()\n",
    "            lend_books_qty=int(input(\"qty\"))\n",
    "            if BOOKS[lend_books] >=lend_books_qty:\n",
    "                BOOKS[lend_books]-=lend_books_qty\n",
    "                \n",
    "                print(\" can lend the book\")\n",
    "            else:\n",
    "                print(\"invalid quantity...see the availablity of books\")\n",
    "                break\n",
    "        elif choice==3:\n",
    "            print(BOOKS)\n",
    "            return_books=input(\"enter the book name you want to return\").upper()\n",
    "            BOOKS[return_books]+= int(input(\"enter the quantity\"))\n",
    "            print(\"thank you so much..your process is completed\")\n",
    "    else:\n",
    "        print(\"Thanks For Visiting......\")\n",
    "        break"
   ]
  }
 ],
 "metadata": {
  "kernelspec": {
   "display_name": "Python 3 (ipykernel)",
   "language": "python",
   "name": "python3"
  },
  "language_info": {
   "codemirror_mode": {
    "name": "ipython",
    "version": 3
   },
   "file_extension": ".py",
   "mimetype": "text/x-python",
   "name": "python",
   "nbconvert_exporter": "python",
   "pygments_lexer": "ipython3",
   "version": "3.11.2"
  }
 },
 "nbformat": 4,
 "nbformat_minor": 5
}
