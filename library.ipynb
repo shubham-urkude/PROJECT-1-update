username=["shubham"]
password="12345" 
print("WELCOME TO YCCE COLLEGE LIBRARY") 
user=input("enter admin username -") 

BOOKS={"FLUID MECHANICS":6,"MACHINE DRAWING":3,"HEAT TRANSFER":2,"ENGINEERING MECHANICS":10}
BOOKS_DATA={"FLUID MECHANICS":6,"MACHINE DRAWING":3,"HEAT TRANSFER":2,"ENGINEERING MECHANICS":10}




while True: 
    if user in username: 
        pw=input("enter password of admin -")
    else:
        
        
        print("type correct username")
        
        break

    if pw==password:
        print("login successfully")
        print("WELCOME TO YCCE COLLEGE OF MECHANICAL ENGINNERING DEPARTMENT")
    else:
        print("incorrect password")
        break
    while True:
        choice = int(input("""press 1 to see the availablity of books
            press 2 to lend books
            press 3 to return books
            """))
        if choice==1:

            print(BOOKS)
        
           
            
            
        elif choice==2:
            print(BOOKS)
            lend_books=input("enter the books name you want to lend-").upper()
            lend_books_qty=int(input("qty"))
            if BOOKS[lend_books] >=lend_books_qty:
                BOOKS[lend_books]-=lend_books_qty
                
                print(" can lend the book")
            else:
                print("invalid quantity...see the availablity of books")
                break
        elif choice==3:
            print(BOOKS)
            return_books=input("enter the book name you want to return").upper()
            BOOKS[return_books]+= int(input("enter the quantity"))
            print("COLLEGE BOOKS DATA-",BOOKS_DATA)
            print("YOUR BOOKS LEND DATA-",BOOKS)
            if BOOKS_DATA==BOOKS:
                print("YOUR DATA IS CLEAR...THANKS FOR VISITING.....")
            else:
                print("SOME BOOKS ARE STILL WITH YOU...MAKE SURE THAT YOU RETURN BOOK..OTHERWISE FINE WILL BE CHARGED")
                break
    else:
        break
